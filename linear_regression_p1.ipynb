{
  "nbformat": 4,
  "nbformat_minor": 0,
  "metadata": {
    "colab": {
      "provenance": [],
      "authorship_tag": "ABX9TyMXqjduwRv3VnJOo7MpYnAe",
      "include_colab_link": true
    },
    "kernelspec": {
      "name": "python3",
      "display_name": "Python 3"
    },
    "language_info": {
      "name": "python"
    }
  },
  "cells": [
    {
      "cell_type": "markdown",
      "metadata": {
        "id": "view-in-github",
        "colab_type": "text"
      },
      "source": [
        "<a href=\"https://colab.research.google.com/github/0x-d15c0/Machine_Learning_19ELC304/blob/main/linear_regression_p1.ipynb\" target=\"_parent\"><img src=\"https://colab.research.google.com/assets/colab-badge.svg\" alt=\"Open In Colab\"/></a>"
      ]
    },
    {
      "cell_type": "code",
      "execution_count": 1,
      "metadata": {
        "id": "6_OsToXRskMi"
      },
      "outputs": [],
      "source": [
        "import pandas as pd\n",
        "import numpy as np\n",
        "import matplotlib.pyplot as plt"
      ]
    },
    {
      "cell_type": "code",
      "source": [
        "data = pd.read_csv('ex1data1.txt', delimiter=',', header=None)\n",
        "print(len(data))\n",
        "print(data)"
      ],
      "metadata": {
        "colab": {
          "base_uri": "https://localhost:8080/"
        },
        "id": "6CD-xTEEsmPo",
        "outputId": "53f68726-0a22-4ca2-e1f5-b0dac4e2732e"
      },
      "execution_count": 2,
      "outputs": [
        {
          "output_type": "stream",
          "name": "stdout",
          "text": [
            "97\n",
            "          0         1\n",
            "0    6.1101  17.59200\n",
            "1    5.5277   9.13020\n",
            "2    8.5186  13.66200\n",
            "3    7.0032  11.85400\n",
            "4    5.8598   6.82330\n",
            "..      ...       ...\n",
            "92   5.8707   7.20290\n",
            "93   5.3054   1.98690\n",
            "94   8.2934   0.14454\n",
            "95  13.3940   9.05510\n",
            "96   5.4369   0.61705\n",
            "\n",
            "[97 rows x 2 columns]\n"
          ]
        }
      ]
    },
    {
      "cell_type": "code",
      "source": [
        "plt.scatter(data[0],data[1])\n",
        "plt.xlabel('X_Values')\n",
        "plt.ylabel('Y_Values')\n",
        "plt.title('Scatter Plot - X vs Y')\n",
        "plt.show()"
      ],
      "metadata": {
        "colab": {
          "base_uri": "https://localhost:8080/",
          "height": 472
        },
        "id": "8F5wadndswoG",
        "outputId": "491b4ad9-04fa-49db-c14e-6e6b82ddcf21"
      },
      "execution_count": 3,
      "outputs": [
        {
          "output_type": "display_data",
          "data": {
            "text/plain": [
              "<Figure size 640x480 with 1 Axes>"
            ],
            "image/png": "[encoded data removed]"
          },
          "metadata": {}
        }
      ]
    },
    {
      "cell_type": "code",
      "source": [
        "data_n = data.values\n",
        "print(data_n)"
      ],
      "metadata": {
        "colab": {
          "base_uri": "https://localhost:8080/"
        },
        "id": "trv5YD7ms4jN",
        "outputId": "f6e2ef40-3265-42ff-ed7d-9cba41032581"
      },
      "execution_count": 4,
      "outputs": [
        {
          "output_type": "stream",
          "name": "stdout",
          "text": [
            "[[ 6.1101  17.592  ]\n",
            " [ 5.5277   9.1302 ]\n",
            " [ 8.5186  13.662  ]\n",
            " [ 7.0032  11.854  ]\n",
            " [ 5.8598   6.8233 ]\n",
            " [ 8.3829  11.886  ]\n",
            " [ 7.4764   4.3483 ]\n",
            " [ 8.5781  12.     ]\n",
            " [ 6.4862   6.5987 ]\n",
            " [ 5.0546   3.8166 ]\n",
            " [ 5.7107   3.2522 ]\n",
            " [14.164   15.505  ]\n",
            " [ 5.734    3.1551 ]\n",
            " [ 8.4084   7.2258 ]\n",
            " [ 5.6407   0.71618]\n",
            " [ 5.3794   3.5129 ]\n",
            " [ 6.3654   5.3048 ]\n",
            " [ 5.1301   0.56077]\n",
            " [ 6.4296   3.6518 ]\n",
            " [ 7.0708   5.3893 ]\n",
            " [ 6.1891   3.1386 ]\n",
            " [20.27    21.767  ]\n",
            " [ 5.4901   4.263  ]\n",
            " [ 6.3261   5.1875 ]\n",
            " [ 5.5649   3.0825 ]\n",
            " [18.945   22.638  ]\n",
            " [12.828   13.501  ]\n",
            " [10.957    7.0467 ]\n",
            " [13.176   14.692  ]\n",
            " [22.203   24.147  ]\n",
            " [ 5.2524  -1.22   ]\n",
            " [ 6.5894   5.9966 ]\n",
            " [ 9.2482  12.134  ]\n",
            " [ 5.8918   1.8495 ]\n",
            " [ 8.2111   6.5426 ]\n",
            " [ 7.9334   4.5623 ]\n",
            " [ 8.0959   4.1164 ]\n",
            " [ 5.6063   3.3928 ]\n",
            " [12.836   10.117  ]\n",
            " [ 6.3534   5.4974 ]\n",
            " [ 5.4069   0.55657]\n",
            " [ 6.8825   3.9115 ]\n",
            " [11.708    5.3854 ]\n",
            " [ 5.7737   2.4406 ]\n",
            " [ 7.8247   6.7318 ]\n",
            " [ 7.0931   1.0463 ]\n",
            " [ 5.0702   5.1337 ]\n",
            " [ 5.8014   1.844  ]\n",
            " [11.7      8.0043 ]\n",
            " [ 5.5416   1.0179 ]\n",
            " [ 7.5402   6.7504 ]\n",
            " [ 5.3077   1.8396 ]\n",
            " [ 7.4239   4.2885 ]\n",
            " [ 7.6031   4.9981 ]\n",
            " [ 6.3328   1.4233 ]\n",
            " [ 6.3589  -1.4211 ]\n",
            " [ 6.2742   2.4756 ]\n",
            " [ 5.6397   4.6042 ]\n",
            " [ 9.3102   3.9624 ]\n",
            " [ 9.4536   5.4141 ]\n",
            " [ 8.8254   5.1694 ]\n",
            " [ 5.1793  -0.74279]\n",
            " [21.279   17.929  ]\n",
            " [14.908   12.054  ]\n",
            " [18.959   17.054  ]\n",
            " [ 7.2182   4.8852 ]\n",
            " [ 8.2951   5.7442 ]\n",
            " [10.236    7.7754 ]\n",
            " [ 5.4994   1.0173 ]\n",
            " [20.341   20.992  ]\n",
            " [10.136    6.6799 ]\n",
            " [ 7.3345   4.0259 ]\n",
            " [ 6.0062   1.2784 ]\n",
            " [ 7.2259   3.3411 ]\n",
            " [ 5.0269  -2.6807 ]\n",
            " [ 6.5479   0.29678]\n",
            " [ 7.5386   3.8845 ]\n",
            " [ 5.0365   5.7014 ]\n",
            " [10.274    6.7526 ]\n",
            " [ 5.1077   2.0576 ]\n",
            " [ 5.7292   0.47953]\n",
            " [ 5.1884   0.20421]\n",
            " [ 6.3557   0.67861]\n",
            " [ 9.7687   7.5435 ]\n",
            " [ 6.5159   5.3436 ]\n",
            " [ 8.5172   4.2415 ]\n",
            " [ 9.1802   6.7981 ]\n",
            " [ 6.002    0.92695]\n",
            " [ 5.5204   0.152  ]\n",
            " [ 5.0594   2.8214 ]\n",
            " [ 5.7077   1.8451 ]\n",
            " [ 7.6366   4.2959 ]\n",
            " [ 5.8707   7.2029 ]\n",
            " [ 5.3054   1.9869 ]\n",
            " [ 8.2934   0.14454]\n",
            " [13.394    9.0551 ]\n",
            " [ 5.4369   0.61705]]\n"
          ]
        }
      ]
    },
    {
      "cell_type": "code",
      "source": [],
      "metadata": {
        "id": "pKlyw9SHs6o0"
      },
      "execution_count": null,
      "outputs": []
    }
  ]
}